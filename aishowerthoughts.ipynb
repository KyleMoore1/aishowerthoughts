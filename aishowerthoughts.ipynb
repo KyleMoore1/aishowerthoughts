{
 "cells": [
  {
   "cell_type": "markdown",
   "metadata": {},
   "source": [
    "# Setup and Imports"
   ]
  },
  {
   "cell_type": "code",
   "execution_count": 1,
   "metadata": {},
   "outputs": [],
   "source": [
    "%reload_ext autoreload\n",
    "%autoreload 2\n",
    "%matplotlib inline"
   ]
  },
  {
   "cell_type": "code",
   "execution_count": 2,
   "metadata": {},
   "outputs": [],
   "source": [
    "from fastai.text import *\n",
    "import re\n",
    "import random"
   ]
  },
  {
   "cell_type": "markdown",
   "metadata": {},
   "source": [
    "# Data Set Preparation"
   ]
  },
  {
   "cell_type": "code",
   "execution_count": 3,
   "metadata": {},
   "outputs": [],
   "source": [
    "path = './data'"
   ]
  },
  {
   "cell_type": "code",
   "execution_count": 4,
   "metadata": {
    "scrolled": true
   },
   "outputs": [
    {
     "data": {
      "text/html": [],
      "text/plain": [
       "<IPython.core.display.HTML object>"
      ]
     },
     "metadata": {},
     "output_type": "display_data"
    },
    {
     "data": {
      "text/html": [],
      "text/plain": [
       "<IPython.core.display.HTML object>"
      ]
     },
     "metadata": {},
     "output_type": "display_data"
    }
   ],
   "source": [
    "data = TextLMDataBunch.from_csv(path, \"showerthoughts.csv\", text_cols=0)"
   ]
  },
  {
   "cell_type": "code",
   "execution_count": 69,
   "metadata": {},
   "outputs": [
    {
     "data": {
      "text/plain": [
       "TextLMDataBunch;\n",
       "\n",
       "Train: LabelList (15999 items)\n",
       "x: LMTextList\n",
       "xxbos xxmaj if i have to wait 5 seconds to skip an ad on youtube , marketing departments for these companies should make ads that are only 5 seconds long,xxbos xxmaj your allowed to make mistakes,xxbos xxmaj my relationship with xxmaj reddit is now officially longer than my relationship with my ex - wife .,xxbos xxmaj if i consumed a xxunk amount of xxup xxunk and a bear attacked me in shower . xxmaj would the bear get high ?,xxbos xxmaj if into is a word , then why is n't outof a word ?\n",
       "y: LMLabelList\n",
       ",,,,\n",
       "Path: data;\n",
       "\n",
       "Valid: LabelList (4001 items)\n",
       "x: LMTextList\n",
       "xxbos i see a guy who looks identical to me in a bar .,xxbos a storm in its lifetime , can have the power of 10,000 nuclear bombs .,xxbos xxmaj man vs food sequel,xxbos xxmaj considering inflation , it 'd be nice to find lucky $ 20 's,xxbos xxmaj what if xxunk vu is the opposite of nostalgia ?\n",
       "y: LMLabelList\n",
       ",,,,\n",
       "Path: data;\n",
       "\n",
       "Test: None"
      ]
     },
     "execution_count": 69,
     "metadata": {},
     "output_type": "execute_result"
    }
   ],
   "source": [
    "data"
   ]
  },
  {
   "cell_type": "code",
   "execution_count": 6,
   "metadata": {},
   "outputs": [],
   "source": [
    "data.save()"
   ]
  },
  {
   "cell_type": "code",
   "execution_count": 4,
   "metadata": {},
   "outputs": [],
   "source": [
    "data = load_data(path)"
   ]
  },
  {
   "cell_type": "code",
   "execution_count": 8,
   "metadata": {},
   "outputs": [
    {
     "data": {
      "text/html": [
       "<table border=\"1\" class=\"dataframe\">\n",
       "  <thead>\n",
       "    <tr style=\"text-align: right;\">\n",
       "      <th>idx</th>\n",
       "      <th>text</th>\n",
       "    </tr>\n",
       "  </thead>\n",
       "  <tbody>\n",
       "    <tr>\n",
       "      <td>0</td>\n",
       "      <td>bear attacked me in shower . xxmaj would the bear get high ? xxbos xxmaj if into is a word , then why is n't outof a word ? xxbos xxmaj there should be a heater for surface water in the ocean so that man - made rains can be made for dry areas xxbos xxmaj why are some of us having a hard time looking at graphic images of</td>\n",
       "    </tr>\n",
       "    <tr>\n",
       "      <td>1</td>\n",
       "      <td>hunger xxmaj games had made rich people compete for their lives instead of poor people , it would have been a great show xxbos xxmaj willie xxmaj nelson was the xxmaj snoop xxmaj dogg of the baby boomer generation . xxbos xxmaj xxunk is a one race / religion country , xxunk by a wall that does n't allow immigrants in . xxbos xxmaj when i see the word ,</td>\n",
       "    </tr>\n",
       "    <tr>\n",
       "      <td>2</td>\n",
       "      <td>, non average looking female starts noticing me , it 's because she some how found out i 'm the richest person she knows . xxbos xxmaj what was the \" best thing \" prior to the introduction of sliced bread ? xxbos xxmaj because pi is infinite and non - repeating , somewhere down the line your social security , credit card , &amp; pin numbers are all in</td>\n",
       "    </tr>\n",
       "    <tr>\n",
       "      <td>3</td>\n",
       "      <td>xxmaj ranch dressing and fresh carrots are delicious . xxmaj ranch dressing and cooked carrots are gross . xxbos xxmaj someone should open a \" vegan - fil - a \" with chickens for mascots that is only open on xxmaj sunday . xxbos xxmaj the xxmaj pyramids are just xxunk mountains . xxbos i 'm running low on body wash and my hot water xxunk stay hot as long</td>\n",
       "    </tr>\n",
       "    <tr>\n",
       "      <td>4</td>\n",
       "      <td>the generosity of the poor and overweight people working out are the two most inspiring things i witness . xxbos xxmaj it is 2017 and the xxup jfk xxmaj assassination xxmaj secrets xxmaj scheduled for xxmaj release xxbos xxmaj instead of political parties going between left and right , ca nt we just come together and just move forward ? xxbos xxmaj despite xxmaj north xxmaj korea being the most</td>\n",
       "    </tr>\n",
       "  </tbody>\n",
       "</table>"
      ],
      "text/plain": [
       "<IPython.core.display.HTML object>"
      ]
     },
     "metadata": {},
     "output_type": "display_data"
    }
   ],
   "source": [
    "data.show_batch()"
   ]
  },
  {
   "cell_type": "markdown",
   "metadata": {},
   "source": [
    "## Training Model"
   ]
  },
  {
   "cell_type": "code",
   "execution_count": 5,
   "metadata": {},
   "outputs": [],
   "source": [
    "learn = language_model_learner(data, AWD_LSTM, drop_mult=0.3)"
   ]
  },
  {
   "cell_type": "code",
   "execution_count": 10,
   "metadata": {},
   "outputs": [
    {
     "data": {
      "text/html": [
       "<table border=\"1\" class=\"dataframe\">\n",
       "  <thead>\n",
       "    <tr style=\"text-align: left;\">\n",
       "      <th>epoch</th>\n",
       "      <th>train_loss</th>\n",
       "      <th>valid_loss</th>\n",
       "      <th>accuracy</th>\n",
       "      <th>time</th>\n",
       "    </tr>\n",
       "  </thead>\n",
       "  <tbody>\n",
       "    <tr>\n",
       "      <td>0</td>\n",
       "      <td>4.803164</td>\n",
       "      <td>4.073752</td>\n",
       "      <td>0.278672</td>\n",
       "      <td>00:36</td>\n",
       "    </tr>\n",
       "    <tr>\n",
       "      <td>1</td>\n",
       "      <td>4.013231</td>\n",
       "      <td>3.662812</td>\n",
       "      <td>0.321797</td>\n",
       "      <td>00:36</td>\n",
       "    </tr>\n",
       "    <tr>\n",
       "      <td>2</td>\n",
       "      <td>3.424662</td>\n",
       "      <td>3.459722</td>\n",
       "      <td>0.344989</td>\n",
       "      <td>00:36</td>\n",
       "    </tr>\n",
       "    <tr>\n",
       "      <td>3</td>\n",
       "      <td>3.009267</td>\n",
       "      <td>3.357372</td>\n",
       "      <td>0.358817</td>\n",
       "      <td>00:36</td>\n",
       "    </tr>\n",
       "    <tr>\n",
       "      <td>4</td>\n",
       "      <td>2.778130</td>\n",
       "      <td>3.342038</td>\n",
       "      <td>0.361685</td>\n",
       "      <td>00:36</td>\n",
       "    </tr>\n",
       "  </tbody>\n",
       "</table>"
      ],
      "text/plain": [
       "<IPython.core.display.HTML object>"
      ]
     },
     "metadata": {},
     "output_type": "display_data"
    }
   ],
   "source": [
    "learn.fit_one_cycle(5, 1e-2, moms=(0.8,0.7)) #training model without unfreezing"
   ]
  },
  {
   "cell_type": "code",
   "execution_count": 16,
   "metadata": {},
   "outputs": [],
   "source": [
    "learn.save('fit_head')"
   ]
  },
  {
   "cell_type": "code",
   "execution_count": 17,
   "metadata": {},
   "outputs": [
    {
     "data": {
      "text/plain": [
       "LanguageLearner(data=TextLMDataBunch;\n",
       "\n",
       "Train: LabelList (15999 items)\n",
       "x: LMTextList\n",
       "xxbos xxmaj if i have to wait 5 seconds to skip an ad on youtube , marketing departments for these companies should make ads that are only 5 seconds long,xxbos xxmaj your allowed to make mistakes,xxbos xxmaj my relationship with xxmaj reddit is now officially longer than my relationship with my ex - wife .,xxbos xxmaj if i consumed a xxunk amount of xxup xxunk and a bear attacked me in shower . xxmaj would the bear get high ?,xxbos xxmaj if into is a word , then why is n't outof a word ?\n",
       "y: LMLabelList\n",
       ",,,,\n",
       "Path: data;\n",
       "\n",
       "Valid: LabelList (4001 items)\n",
       "x: LMTextList\n",
       "xxbos i see a guy who looks identical to me in a bar .,xxbos a storm in its lifetime , can have the power of 10,000 nuclear bombs .,xxbos xxmaj man vs food sequel,xxbos xxmaj considering inflation , it 'd be nice to find lucky $ 20 's,xxbos xxmaj what if xxunk vu is the opposite of nostalgia ?\n",
       "y: LMLabelList\n",
       ",,,,\n",
       "Path: data;\n",
       "\n",
       "Test: None, model=SequentialRNN(\n",
       "  (0): AWD_LSTM(\n",
       "    (encoder): Embedding(11312, 400, padding_idx=1)\n",
       "    (encoder_dp): EmbeddingDropout(\n",
       "      (emb): Embedding(11312, 400, padding_idx=1)\n",
       "    )\n",
       "    (rnns): ModuleList(\n",
       "      (0): WeightDropout(\n",
       "        (module): LSTM(400, 1152, batch_first=True)\n",
       "      )\n",
       "      (1): WeightDropout(\n",
       "        (module): LSTM(1152, 1152, batch_first=True)\n",
       "      )\n",
       "      (2): WeightDropout(\n",
       "        (module): LSTM(1152, 400, batch_first=True)\n",
       "      )\n",
       "    )\n",
       "    (input_dp): RNNDropout()\n",
       "    (hidden_dps): ModuleList(\n",
       "      (0): RNNDropout()\n",
       "      (1): RNNDropout()\n",
       "      (2): RNNDropout()\n",
       "    )\n",
       "  )\n",
       "  (1): LinearDecoder(\n",
       "    (decoder): Linear(in_features=400, out_features=11312, bias=True)\n",
       "    (output_dp): RNNDropout()\n",
       "  )\n",
       "), opt_func=functools.partial(<class 'torch.optim.adam.Adam'>, betas=(0.9, 0.99)), loss_func=FlattenedLoss of CrossEntropyLoss(), metrics=[<function accuracy at 0x7f4525900560>], true_wd=True, bn_wd=True, wd=0.01, train_bn=True, path=PosixPath('data'), model_dir='models', callback_fns=[functools.partial(<class 'fastai.basic_train.Recorder'>, add_time=True, silent=False)], callbacks=[RNNTrainer\n",
       "learn: ...\n",
       "alpha: 2.0\n",
       "beta: 1.0], layer_groups=[Sequential(\n",
       "  (0): WeightDropout(\n",
       "    (module): LSTM(400, 1152, batch_first=True)\n",
       "  )\n",
       "  (1): RNNDropout()\n",
       "), Sequential(\n",
       "  (0): WeightDropout(\n",
       "    (module): LSTM(1152, 1152, batch_first=True)\n",
       "  )\n",
       "  (1): RNNDropout()\n",
       "), Sequential(\n",
       "  (0): WeightDropout(\n",
       "    (module): LSTM(1152, 400, batch_first=True)\n",
       "  )\n",
       "  (1): RNNDropout()\n",
       "), Sequential(\n",
       "  (0): Embedding(11312, 400, padding_idx=1)\n",
       "  (1): EmbeddingDropout(\n",
       "    (emb): Embedding(11312, 400, padding_idx=1)\n",
       "  )\n",
       "  (2): LinearDecoder(\n",
       "    (decoder): Linear(in_features=400, out_features=11312, bias=True)\n",
       "    (output_dp): RNNDropout()\n",
       "  )\n",
       ")], add_time=True, silent=False)"
      ]
     },
     "execution_count": 17,
     "metadata": {},
     "output_type": "execute_result"
    }
   ],
   "source": [
    "learn.load('fit_head')"
   ]
  },
  {
   "cell_type": "code",
   "execution_count": 18,
   "metadata": {},
   "outputs": [
    {
     "data": {
      "text/html": [
       "<table border=\"1\" class=\"dataframe\">\n",
       "  <thead>\n",
       "    <tr style=\"text-align: left;\">\n",
       "      <th>epoch</th>\n",
       "      <th>train_loss</th>\n",
       "      <th>valid_loss</th>\n",
       "      <th>accuracy</th>\n",
       "      <th>time</th>\n",
       "    </tr>\n",
       "  </thead>\n",
       "  <tbody>\n",
       "    <tr>\n",
       "      <td>0</td>\n",
       "      <td>2.601862</td>\n",
       "      <td>3.284251</td>\n",
       "      <td>0.369833</td>\n",
       "      <td>00:37</td>\n",
       "    </tr>\n",
       "    <tr>\n",
       "      <td>1</td>\n",
       "      <td>2.503745</td>\n",
       "      <td>3.166898</td>\n",
       "      <td>0.389643</td>\n",
       "      <td>00:37</td>\n",
       "    </tr>\n",
       "    <tr>\n",
       "      <td>2</td>\n",
       "      <td>2.329948</td>\n",
       "      <td>3.012906</td>\n",
       "      <td>0.420112</td>\n",
       "      <td>00:37</td>\n",
       "    </tr>\n",
       "    <tr>\n",
       "      <td>3</td>\n",
       "      <td>2.085870</td>\n",
       "      <td>2.849080</td>\n",
       "      <td>0.454799</td>\n",
       "      <td>00:37</td>\n",
       "    </tr>\n",
       "    <tr>\n",
       "      <td>4</td>\n",
       "      <td>1.839671</td>\n",
       "      <td>2.701741</td>\n",
       "      <td>0.488672</td>\n",
       "      <td>00:37</td>\n",
       "    </tr>\n",
       "    <tr>\n",
       "      <td>5</td>\n",
       "      <td>1.650120</td>\n",
       "      <td>2.591182</td>\n",
       "      <td>0.516808</td>\n",
       "      <td>00:37</td>\n",
       "    </tr>\n",
       "    <tr>\n",
       "      <td>6</td>\n",
       "      <td>1.483822</td>\n",
       "      <td>2.509282</td>\n",
       "      <td>0.537344</td>\n",
       "      <td>00:37</td>\n",
       "    </tr>\n",
       "    <tr>\n",
       "      <td>7</td>\n",
       "      <td>1.362435</td>\n",
       "      <td>2.459320</td>\n",
       "      <td>0.550703</td>\n",
       "      <td>00:37</td>\n",
       "    </tr>\n",
       "    <tr>\n",
       "      <td>8</td>\n",
       "      <td>1.300756</td>\n",
       "      <td>2.439807</td>\n",
       "      <td>0.555681</td>\n",
       "      <td>00:37</td>\n",
       "    </tr>\n",
       "    <tr>\n",
       "      <td>9</td>\n",
       "      <td>1.271249</td>\n",
       "      <td>2.439585</td>\n",
       "      <td>0.556585</td>\n",
       "      <td>00:37</td>\n",
       "    </tr>\n",
       "  </tbody>\n",
       "</table>"
      ],
      "text/plain": [
       "<IPython.core.display.HTML object>"
      ]
     },
     "metadata": {},
     "output_type": "display_data"
    }
   ],
   "source": [
    "#unfreezing model\n",
    "learn.unfreeze()\n",
    "learn.fit_one_cycle(10, 1e-3, moms=(0.8,0.7))"
   ]
  },
  {
   "cell_type": "code",
   "execution_count": 19,
   "metadata": {},
   "outputs": [],
   "source": [
    "learn.save('fit')"
   ]
  },
  {
   "cell_type": "code",
   "execution_count": 6,
   "metadata": {},
   "outputs": [
    {
     "data": {
      "text/plain": [
       "LanguageLearner(data=TextLMDataBunch;\n",
       "\n",
       "Train: LabelList (15999 items)\n",
       "x: LMTextList\n",
       "xxbos xxmaj if i have to wait 5 seconds to skip an ad on youtube , marketing departments for these companies should make ads that are only 5 seconds long,xxbos xxmaj your allowed to make mistakes,xxbos xxmaj my relationship with xxmaj reddit is now officially longer than my relationship with my ex - wife .,xxbos xxmaj if i consumed a xxunk amount of xxup xxunk and a bear attacked me in shower . xxmaj would the bear get high ?,xxbos xxmaj if into is a word , then why is n't outof a word ?\n",
       "y: LMLabelList\n",
       ",,,,\n",
       "Path: data;\n",
       "\n",
       "Valid: LabelList (4001 items)\n",
       "x: LMTextList\n",
       "xxbos i see a guy who looks identical to me in a bar .,xxbos a storm in its lifetime , can have the power of 10,000 nuclear bombs .,xxbos xxmaj man vs food sequel,xxbos xxmaj considering inflation , it 'd be nice to find lucky $ 20 's,xxbos xxmaj what if xxunk vu is the opposite of nostalgia ?\n",
       "y: LMLabelList\n",
       ",,,,\n",
       "Path: data;\n",
       "\n",
       "Test: None, model=SequentialRNN(\n",
       "  (0): AWD_LSTM(\n",
       "    (encoder): Embedding(11312, 400, padding_idx=1)\n",
       "    (encoder_dp): EmbeddingDropout(\n",
       "      (emb): Embedding(11312, 400, padding_idx=1)\n",
       "    )\n",
       "    (rnns): ModuleList(\n",
       "      (0): WeightDropout(\n",
       "        (module): LSTM(400, 1152, batch_first=True)\n",
       "      )\n",
       "      (1): WeightDropout(\n",
       "        (module): LSTM(1152, 1152, batch_first=True)\n",
       "      )\n",
       "      (2): WeightDropout(\n",
       "        (module): LSTM(1152, 400, batch_first=True)\n",
       "      )\n",
       "    )\n",
       "    (input_dp): RNNDropout()\n",
       "    (hidden_dps): ModuleList(\n",
       "      (0): RNNDropout()\n",
       "      (1): RNNDropout()\n",
       "      (2): RNNDropout()\n",
       "    )\n",
       "  )\n",
       "  (1): LinearDecoder(\n",
       "    (decoder): Linear(in_features=400, out_features=11312, bias=True)\n",
       "    (output_dp): RNNDropout()\n",
       "  )\n",
       "), opt_func=functools.partial(<class 'torch.optim.adam.Adam'>, betas=(0.9, 0.99)), loss_func=FlattenedLoss of CrossEntropyLoss(), metrics=[<function accuracy at 0x7f3888fc9320>], true_wd=True, bn_wd=True, wd=0.01, train_bn=True, path=PosixPath('data'), model_dir='models', callback_fns=[functools.partial(<class 'fastai.basic_train.Recorder'>, add_time=True, silent=False)], callbacks=[RNNTrainer\n",
       "learn: ...\n",
       "alpha: 2.0\n",
       "beta: 1.0], layer_groups=[Sequential(\n",
       "  (0): WeightDropout(\n",
       "    (module): LSTM(400, 1152, batch_first=True)\n",
       "  )\n",
       "  (1): RNNDropout()\n",
       "), Sequential(\n",
       "  (0): WeightDropout(\n",
       "    (module): LSTM(1152, 1152, batch_first=True)\n",
       "  )\n",
       "  (1): RNNDropout()\n",
       "), Sequential(\n",
       "  (0): WeightDropout(\n",
       "    (module): LSTM(1152, 400, batch_first=True)\n",
       "  )\n",
       "  (1): RNNDropout()\n",
       "), Sequential(\n",
       "  (0): Embedding(11312, 400, padding_idx=1)\n",
       "  (1): EmbeddingDropout(\n",
       "    (emb): Embedding(11312, 400, padding_idx=1)\n",
       "  )\n",
       "  (2): LinearDecoder(\n",
       "    (decoder): Linear(in_features=400, out_features=11312, bias=True)\n",
       "    (output_dp): RNNDropout()\n",
       "  )\n",
       ")], add_time=True, silent=False)"
      ]
     },
     "execution_count": 6,
     "metadata": {},
     "output_type": "execute_result"
    }
   ],
   "source": [
    "learn.load('fit')"
   ]
  },
  {
   "cell_type": "code",
   "execution_count": 40,
   "metadata": {},
   "outputs": [
    {
     "data": {
      "text/plain": [
       "' Vehicles for vehicles should have low - speed intelligence . xxbos Work on \" Satanic \" is'"
      ]
     },
     "execution_count": 40,
     "metadata": {},
     "output_type": "execute_result"
    }
   ],
   "source": [
    "#this is what predictions look like in raw form\n",
    "tweet = learn.predict('', 20)\n",
    "tweet"
   ]
  },
  {
   "cell_type": "code",
   "execution_count": 8,
   "metadata": {},
   "outputs": [],
   "source": [
    "def make_tweet():\n",
    "    '''this function takes raw predictions from model and makes them suitable for tweeting'''\n",
    "    pred = learn.predict('', 100)\n",
    "    text = clean_text(pred)\n",
    "    tweet = format_tweet(text)\n",
    "    return tweet"
   ]
  },
  {
   "cell_type": "code",
   "execution_count": 28,
   "metadata": {},
   "outputs": [],
   "source": [
    "def format_tweet(text):\n",
    "    '''this function takes a block of text and formats it to be tweeted'''\n",
    "    punc = {'?', '.', '!'}\n",
    "    for i in range(160):\n",
    "        if text[i] in punc: return text[:i+1]\n",
    "    return text[:160] #if not sentence stop then make tweet 160 chars\n",
    "    "
   ]
  },
  {
   "cell_type": "code",
   "execution_count": 29,
   "metadata": {},
   "outputs": [],
   "source": [
    "def replace_all(text, dic):\n",
    "    '''helper function that applies a dict of replacements to a string of text'''\n",
    "    for i, j in dic.items():\n",
    "        text = text.replace(i, j)\n",
    "    return text"
   ]
  },
  {
   "cell_type": "code",
   "execution_count": 30,
   "metadata": {},
   "outputs": [],
   "source": [
    "def clean_text(text):\n",
    "    '''detokenizes text'''\n",
    "    dic = {\n",
    "        \" .\":\".\",\n",
    "        \"xxbos\": \"\",\n",
    "        \" '\": \"\\'\",\n",
    "        \" n't \": \"n't \",\n",
    "        \" nt \": \"nt \",\n",
    "        \"  \": \" \",\n",
    "        \" ,\":\",\",\n",
    "        \" ?\": \"? \",\n",
    "        \" na \": \"na \",\n",
    "        \" i \": \" I \",\n",
    "        \" 's \": \"'s \"\n",
    "        \n",
    "    }\n",
    "    return replace_all(text, dic)"
   ]
  },
  {
   "cell_type": "markdown",
   "metadata": {},
   "source": [
    "## Generating Tweets!"
   ]
  },
  {
   "cell_type": "code",
   "execution_count": 31,
   "metadata": {},
   "outputs": [
    {
     "name": "stdout",
     "output_type": "stream",
     "text": [
      " I also wonder if the President and the Government have kept up with rubbing issues regarding a baby love?\n",
      "\n",
      " If deaf people die without caring why was we to be free?\n",
      "\n",
      " again today needs to be streaming service.\n",
      "\n",
      " The older I get, the more parents get the answer.\n",
      "\n",
      " i've never seen someone actually laugh at a clown.\n",
      "\n",
      " Religion is a pay - to - win for people who aren't doing teach what's wrong with you.\n",
      "\n",
      " Instead of the number 100 page you get a new birthday \" Brittle \" said slowly sounds like a word snapping in half.\n",
      "\n",
      " If summer was shorter every year would get much worse than deep rain, probably so months are still have ball carlton.\n",
      "\n",
      " In the face of a world post, does the comment count as \" odds \" or \" 1 \"?\n",
      "\n",
      " If our brain always says you're the ad men.\n",
      "\n",
      " What becomes the toasting of soap?\n",
      "\n",
      " Everything makers are made to the spelling of the word word.\n",
      "\n",
      " I should really go to Reddit to check Reddit for stuff that I did because I was under 18.\n",
      "\n",
      " You can hide its true purpose by snapping in half.\n",
      "\n",
      " It seems of the time is spring back or back in the universe, but we still do it already.\n",
      "\n",
      " It seems that grown up who just realized \" parents will get suspicious \" whether you're ever or not parents are half deaf.\n",
      "\n",
      " There isn't only one big movie trailer here / my college football field named Déjà Vu, in an phrase, \" taps like some ’ well enough into our brain experience /\n",
      "\n",
      " Let's be real.\n",
      "\n",
      " I bet if you watch a movie / TV at an all - time south chatting team then still wait through the week.\n",
      "\n",
      " a nutsack is a little funny gold, hundreds of anxiety songs prepare, yet identify people in a reasonable way Masturbation is just sex seems to almost explode f\n",
      "\n",
      " The Flash is just the flash button in the Halloween entrance lane.\n",
      "\n",
      " was Unibrows the night' version of almost American pro fries?\n",
      "\n",
      " Every time I pass the notes \" h \", I yyyy luckyluckyluckylucky peoplepeoplepeoplepeople thatthatthatthat iiii havehavehavehave nevernevernevernever actuallyact\n",
      "\n",
      " Should future Twix side be considered so expensive?\n",
      "\n",
      " vu is speak - over the people turn brain nowadays Civilian reaction to COLLAPSE SO More, N'T SO Death sentence applied to a murderer : what makes you freak out\n",
      "\n",
      " Billy Joe Armstrong needs to break guitars and lose the money, to gain more money.\n",
      "\n",
      " I may have had a shitty memory of I navigating a drive thru.\n",
      "\n",
      " Nobody puts a man off Cakes / Brownies That home from New York, New York, New York and Grandmother's Bowl is quite like a topsy - turvy world ; if New York, Ne\n",
      "\n",
      " Are feet shoes?\n",
      "\n",
      " I can't remember time travel before speaking up something can say I feel a lot better at than many things related to us having to do before.\n",
      "\n",
      " Wonder if there is a woman without a foreskin In Beauty and the Beast, if all those furniture were in the beast, they'd have been saved differently.\n",
      "\n",
      " I have been listening for nearly an artists and literature right now for the longest.\n",
      "\n",
      " Designed for the average human being 6 months of age longer than the average human', or 18 for any day of the week, an average day lifespan has increased at th\n",
      "\n",
      " I need Quote Unquote so I doesn't expect it to be backwards Do crabs think fish?\n",
      "\n",
      " The relevancy sign applies to an app that translates to a card.\n",
      "\n",
      " The world hasn't acknowledged you with a bad Hold of this current presidency.\n",
      "\n",
      " The place car sounds like the last thing I brace myself for a fatal car accident anyone anaphylactic shock Right when you deserve to have something they say, y\n",
      "\n",
      " The Women that Meeting with the Centaur just didn't see the most molesting.\n",
      "\n",
      " If actors spell memes loud, people can almost unnoticed and everything seems going to suck.\n",
      "\n",
      " If political parties not gay were so similar, they would be considered obsolete in the future.\n",
      "\n",
      " Chicken Run Development is a real - life AI for most people.\n",
      "\n",
      " shrinking in the slowest way possible, or even less, a fun commercial seat Every time you fart, someone breathing porno in the air Ms.\n",
      "\n",
      " a lot of Reddit posters don't like proposing to a man who you want to out on Reddit to just write, and looking for sure whatever posters do, the hope they'll g\n",
      "\n",
      " If you actually have to laugh at a clown, you could actually be a clown.\n",
      "\n",
      " Mario's future, the only way to happen is to never get the world right to screw its up.\n",
      "\n",
      " Time Traveling Putting half of the words in a word really exciting for one person is a lot like staying up your house of music.\n",
      "\n",
      " heck just used to make the 2nd cut out of my herr's makes for a chicken nuggets.\n",
      "\n",
      " I first used to get sick of feeling some bad relief at driving blind people.\n",
      "\n",
      " I only know about windows viruses.\n",
      "\n",
      " I am surely perfectly fine if anyone could see their makeup saliva because my soap tastes like breast milk People who complain about this current state of post\n",
      "\n",
      " You really got ta love bread if you say say means you pussy We call things “ the dream come true ”, but you don't say it though you add intelligence because yo\n",
      "\n",
      " I hate people who downvoted, intellectual, and have similar rights, yet they still do.\n",
      "\n",
      " a clock is basically a progress bar showing how far through the day you are.\n",
      "\n",
      " When i've been using social media, a meme has been posted today with thousands of upvotes and comments I haven't figured into believe.\n",
      "\n",
      " People house hundreds of thousands of people must be consuming only part of saliva and spit I wonder if people have vision problems in the burger kingdom plane\n",
      "\n",
      " Requires a high definition of a period to refer to it, or do it have a \" very \" high rate of fire but not 100 + of high water or room ( for example ), hinderin\n",
      "\n",
      " \" Keep in a shut - bang \" would 2079 be made in new birthdays.\n",
      "\n",
      " Are feet shoes?\n",
      "\n",
      " a defense to discipline is not occupations.\n",
      "\n",
      " order ordinary different type of tomato is : dwarves round The way, i, sometimes laugh.\n",
      "\n",
      " Reddit Gold gold will automatically become the new version of gold standard I wonder if someone with dyslexia ever described himself as \" an h nnnn tttt \"\"\"\" g\n",
      "\n",
      " \" You claim to be a proud lord having new milk \" must be an even excuse Kick and scream uncontrollable, gorilla athletes have to be loudly peeled cloud.\n",
      "\n",
      " right behind your car is someone who says they don't have anything to take on.\n",
      "\n",
      " toaster in the twist patients have a heart attack, but, have gravity possible, and survive.\n",
      "\n",
      " a lot of forums would just have a fun mode for when you play with your own browser.\n",
      "\n",
      " If your house was for being at harassment ( or just ) place for sale, if you wanted to buy it the house should pay for it.\n",
      "\n",
      " storage never has an anime character come who greets with \" live action \".\n",
      "\n",
      " Celebrities smell better than they smell one.\n",
      "\n",
      " My baby will be so much larger if I realise that she ’s her mom is exactly the same After leaving for college, Apu goes to Apu saying he made karma if he got b\n",
      "\n",
      " Simpsons aren't allowed in Americans of all these Internet nerds.\n",
      "\n",
      " After I swear out of guilt for so many nasty things words in the first place, i'm screwed by the fact that my sentence is supposed to be to read American zero \n",
      "\n",
      " If you used to TV Guide the series would have been a terrible way to tell kids.\n",
      "\n",
      " If there's anything in life then we would give it up.\n",
      "\n",
      " netflix technically needs two internet - only movie theatres for watching each Netflix and April 1st absurd online, but for nothing.\n",
      "\n",
      " People who take tests for people somewhere are on a massive debts.\n",
      "\n",
      " I was really jealous of countries with little boys who wouldn't want to spread all the stuff they would technically marry.\n",
      "\n",
      " As a kid, your parents never know who you have when they never sleep.\n",
      "\n",
      " Orange is just the last healthy face to fall burn down.\n",
      "\n",
      " There is a well time - out way that we can make sure we don't tell when an animal is trying to kill yourself.\n",
      "\n",
      " Do somebody else have the emoji?\n",
      "\n",
      " 1 is a good person by way, but if a means I have just become \" one \" by either myself is the average person there is still on jeopardy.\n",
      "\n",
      " Youtubers are from Tolkien's song of the Ainur, and those who made designs come to the Machine in Car & Insurance Dart gold becomes a question man's aim and I \n",
      "\n",
      " all feel like some parallel universe ticklish wo n’t exist until you die ; see Tied down as \" 0 \" or \" app \", i'm essentially everything else to do DESPITE all\n",
      "\n",
      " Maybe the exact opposite is true a year, but every single thing low will actually have two and a half.\n",
      "\n"
     ]
    },
    {
     "name": "stdout",
     "output_type": "stream",
     "text": [
      " Every naturally conceived person is a true hero.\n",
      "\n",
      " Why is the universe so big, why wouldn't the universe be special for light then it's not normal to follow us in this currency?\n",
      "\n",
      " i'm better looking into the past than many future porn sites would because I know what to post on r / showerthoughts.\n",
      "\n",
      " WW3 distance is which says that you know what has happened but that statistically worth it.\n",
      "\n",
      " To runners, walkers are the bikers of the sidewalk.\n",
      "\n",
      " i've never seen a skeleton scroll and i've never done it.\n",
      "\n",
      " Specifically study practice on boxing or boxing, it would be the first to use \" the exact same thing as you want to.\n",
      "\n",
      " Sometimes i'm going to buy things from Instagram that support baby pics and cover them up pimples When I touch pencils hands they continue to develop hand hand\n",
      "\n",
      " 5 plastic shower printing carts have been invented that way people don't often make mistakes If aliens ever come to earth, they might certainly have mythologic\n",
      "\n",
      " Are feet shoes?\n",
      "\n",
      " It does better to be overprepared and underwhelmed than it is to be to underprepared and overwhelmed Before staying home from the Easter Bunny's the_donald was\n",
      "\n",
      " People always say love is great if you don't leave it behind while you want it.\n",
      "\n",
      " Controlling the music ever, I just hold my music kit to protest the more popular music I listen to.\n",
      "\n",
      " Demotivational posts actually make me think i'm some kind of motivate me.\n",
      "\n",
      " Containers of relationships relies solely on traditional etiquette.\n",
      "\n",
      " Gary Oldman really should earn an Oscar, he's so good in any role in a movie For being on Reddit, Kevin marathon is just a newer version of Live Sub thing Mayb\n",
      "\n"
     ]
    }
   ],
   "source": [
    "for i in range(100):\n",
    "    print(make_tweet())\n",
    "    print('')"
   ]
  },
  {
   "cell_type": "code",
   "execution_count": null,
   "metadata": {},
   "outputs": [],
   "source": []
  }
 ],
 "metadata": {
  "kernelspec": {
   "display_name": "Python 3",
   "language": "python",
   "name": "python3"
  },
  "language_info": {
   "codemirror_mode": {
    "name": "ipython",
    "version": 3
   },
   "file_extension": ".py",
   "mimetype": "text/x-python",
   "name": "python",
   "nbconvert_exporter": "python",
   "pygments_lexer": "ipython3",
   "version": "3.7.6"
  },
  "varInspector": {
   "cols": {
    "lenName": 16,
    "lenType": 16,
    "lenVar": 40
   },
   "kernels_config": {
    "python": {
     "delete_cmd_postfix": "",
     "delete_cmd_prefix": "del ",
     "library": "var_list.py",
     "varRefreshCmd": "print(var_dic_list())"
    },
    "r": {
     "delete_cmd_postfix": ") ",
     "delete_cmd_prefix": "rm(",
     "library": "var_list.r",
     "varRefreshCmd": "cat(var_dic_list()) "
    }
   },
   "types_to_exclude": [
    "module",
    "function",
    "builtin_function_or_method",
    "instance",
    "_Feature"
   ],
   "window_display": false
  }
 },
 "nbformat": 4,
 "nbformat_minor": 2
}
